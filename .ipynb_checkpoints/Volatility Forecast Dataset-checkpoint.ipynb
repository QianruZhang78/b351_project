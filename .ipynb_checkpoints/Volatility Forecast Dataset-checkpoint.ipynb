{
 "cells": [
  {
   "cell_type": "markdown",
   "metadata": {},
   "source": [
    "# Volatility Forecast Dataset"
   ]
  },
  {
   "cell_type": "code",
   "execution_count": 15,
   "metadata": {
    "scrolled": true
   },
   "outputs": [],
   "source": [
    "#!pip install yfinance\n",
    "# !pip install pandas_ta\n",
    "# !pip install arch"
   ]
  },
  {
   "cell_type": "code",
   "execution_count": 16,
   "metadata": {},
   "outputs": [],
   "source": [
    "# If yfinance throws an error then uncomment the line below to install it. (You need to install it only once so comment it again after)\n",
    "import yfinance as yf\n",
    "import pandas_ta as ta\n",
    "import pandas as pd\n",
    "import numpy as np\n",
    "from arch import arch_model"
   ]
  },
  {
   "cell_type": "code",
   "execution_count": 17,
   "metadata": {},
   "outputs": [],
   "source": [
    "fb, aapl, amzn, nflx, googl   = yf.Ticker(\"FB\"), yf.Ticker(\"AAPL\"), yf.Ticker(\"AMZN\"), yf.Ticker(\"NFLX\"), yf.Ticker(\"GOOGL\")\n",
    "\n",
    "tickers = (\"fb\", \"aapl\", \"amzn\",\"nflx\", \"googl\")\n",
    "dfs = {\"fb\": fb.history(\"20Y\"), \"aapl\" : aapl.history(\"20Y\"), \"amzn\" : amzn.history(\"20Y\"), \"nflx\": nflx.history(\"20Y\"), \"googl\":googl.history(\"20Y\")}"
   ]
  },
  {
   "cell_type": "code",
   "execution_count": 18,
   "metadata": {
    "scrolled": true
   },
   "outputs": [
    {
     "name": "stderr",
     "output_type": "stream",
     "text": [
      "<ipython-input-18-a6b1427f34f6>:28: SettingWithCopyWarning: \n",
      "A value is trying to be set on a copy of a slice from a DataFrame\n",
      "\n",
      "See the caveats in the documentation: https://pandas.pydata.org/pandas-docs/stable/user_guide/indexing.html#returning-a-view-versus-a-copy\n",
      "  dfs[i]['signal'][j] = 1\n",
      "<ipython-input-18-a6b1427f34f6>:28: SettingWithCopyWarning: \n",
      "A value is trying to be set on a copy of a slice from a DataFrame\n",
      "\n",
      "See the caveats in the documentation: https://pandas.pydata.org/pandas-docs/stable/user_guide/indexing.html#returning-a-view-versus-a-copy\n",
      "  dfs[i]['signal'][j] = 1\n",
      "<ipython-input-18-a6b1427f34f6>:28: SettingWithCopyWarning: \n",
      "A value is trying to be set on a copy of a slice from a DataFrame\n",
      "\n",
      "See the caveats in the documentation: https://pandas.pydata.org/pandas-docs/stable/user_guide/indexing.html#returning-a-view-versus-a-copy\n",
      "  dfs[i]['signal'][j] = 1\n",
      "<ipython-input-18-a6b1427f34f6>:28: SettingWithCopyWarning: \n",
      "A value is trying to be set on a copy of a slice from a DataFrame\n",
      "\n",
      "See the caveats in the documentation: https://pandas.pydata.org/pandas-docs/stable/user_guide/indexing.html#returning-a-view-versus-a-copy\n",
      "  dfs[i]['signal'][j] = 1\n",
      "<ipython-input-18-a6b1427f34f6>:28: SettingWithCopyWarning: \n",
      "A value is trying to be set on a copy of a slice from a DataFrame\n",
      "\n",
      "See the caveats in the documentation: https://pandas.pydata.org/pandas-docs/stable/user_guide/indexing.html#returning-a-view-versus-a-copy\n",
      "  dfs[i]['signal'][j] = 1\n"
     ]
    }
   ],
   "source": [
    "for i in tickers:\n",
    "    df = dfs[i]\n",
    "    dfs[i].drop(columns = [\"Dividends\",\"Stock Splits\"],inplace = True)\n",
    "    \n",
    "    MACD = df.ta.macd(close='close', fast=12, slow=26, signal=9, append=True).drop(columns=[\"MACDh_12_26_9\",\"MACDs_12_26_9\"])\n",
    "    RSI = df.ta.rsi()\n",
    "    EMA = df.ta.ema()\n",
    "    MFI = df.ta.mfi()\n",
    "    \n",
    "    dfs[i]['Return'] = df['Close'].pct_change()\n",
    "    dfs[i]['Vol-5d'] = df['Return'].rolling(window='5d').std()\n",
    "    dfs[i]['MACD'] = MACD\n",
    "    dfs[i]['RSI'] = RSI\n",
    "    dfs[i]['EMA'] = EMA\n",
    "    dfs[i]['MFI'] = MFI\n",
    "    \n",
    "    dfs[i].dropna(inplace = True)\n",
    "    dfs[i].drop(columns = [\"MACD_12_26_9\",\"MACDh_12_26_9\", \"MACDs_12_26_9\"], inplace = True)\n",
    "    \n",
    "    dfs[i]['signal'] = np.zeros(len(df))\n",
    "    \n",
    "    for j,time in enumerate(df.index):\n",
    "    \n",
    "        before = df[\"Return\"][j-5:j].std()\n",
    "        after = df[\"Return\"][j:j+5].std()\n",
    "\n",
    "        if after >= before:\n",
    "            dfs[i]['signal'][j] = 1\n",
    "    "
   ]
  },
  {
   "cell_type": "code",
   "execution_count": 20,
   "metadata": {},
   "outputs": [],
   "source": [
    "for i in tickers:\n",
    "    dfs[i].to_csv(i + \".csv\")"
   ]
  }
 ],
 "metadata": {
  "kernelspec": {
   "display_name": "Python 3",
   "language": "python",
   "name": "python3"
  },
  "language_info": {
   "codemirror_mode": {
    "name": "ipython",
    "version": 3
   },
   "file_extension": ".py",
   "mimetype": "text/x-python",
   "name": "python",
   "nbconvert_exporter": "python",
   "pygments_lexer": "ipython3",
   "version": "3.8.5"
  }
 },
 "nbformat": 4,
 "nbformat_minor": 4
}
