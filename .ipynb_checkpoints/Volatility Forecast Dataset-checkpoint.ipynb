{
 "cells": [
  {
   "cell_type": "markdown",
   "metadata": {},
   "source": [
    "# Volatility Forecast Dataset"
   ]
  },
  {
   "cell_type": "code",
   "execution_count": 83,
   "metadata": {
    "scrolled": true
   },
   "outputs": [],
   "source": [
    "#!pip install yfinance\n",
    "# !pip install pandas_ta"
   ]
  },
  {
   "cell_type": "code",
   "execution_count": 84,
   "metadata": {},
   "outputs": [],
   "source": [
    "# If yfinance throws an error then uncomment the line below to install it. (You need to install it only once so comment it again after)\n",
    "import yfinance as yf\n",
    "import pandas_ta as ta\n",
    "import pandas as pd\n",
    "import numpy as np"
   ]
  },
  {
   "cell_type": "code",
   "execution_count": 85,
   "metadata": {},
   "outputs": [],
   "source": [
    "aapl = yf.Ticker(\"AAPL\")\n",
    "df = aapl.history(\"20Y\")\n",
    "df.drop(columns = [\"Dividends\",\"Stock Splits\"],inplace = True)"
   ]
  },
  {
   "cell_type": "code",
   "execution_count": 95,
   "metadata": {
    "scrolled": true
   },
   "outputs": [],
   "source": [
    "MACD = df.ta.macd(close='close', fast=12, slow=26, signal=9, append=True).drop(columns=[\"MACDh_12_26_9\",\"MACDs_12_26_9\"])\n",
    "RSI = df.ta.rsi()\n",
    "EMA = df.ta.ema()\n",
    "MFI = df.ta.mfi()"
   ]
  },
  {
   "cell_type": "code",
   "execution_count": 96,
   "metadata": {
    "scrolled": true
   },
   "outputs": [],
   "source": [
    "df['MACD'] = MACD\n",
    "df['RSI'] = RSI\n",
    "df['EMA'] = EMA\n",
    "df['MFI'] = MFI"
   ]
  },
  {
   "cell_type": "code",
   "execution_count": 100,
   "metadata": {},
   "outputs": [],
   "source": [
    "df.dropna(inplace = True)\n",
    "df.drop(columns = [\"MACDh_12_26_9\", \"MACDs_12_26_9\"], inplace = True)"
   ]
  },
  {
   "cell_type": "code",
   "execution_count": 102,
   "metadata": {},
   "outputs": [],
   "source": [
    "df.to_csv(\"dataset.csv\")"
   ]
  }
 ],
 "metadata": {
  "kernelspec": {
   "display_name": "Python 3",
   "language": "python",
   "name": "python3"
  },
  "language_info": {
   "codemirror_mode": {
    "name": "ipython",
    "version": 3
   },
   "file_extension": ".py",
   "mimetype": "text/x-python",
   "name": "python",
   "nbconvert_exporter": "python",
   "pygments_lexer": "ipython3",
   "version": "3.8.5"
  }
 },
 "nbformat": 4,
 "nbformat_minor": 4
}
